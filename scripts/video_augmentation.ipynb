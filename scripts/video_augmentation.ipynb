{
  "cells": [
    {
      "cell_type": "markdown",
      "metadata": {
        "id": "g4k3qJJ7QeyM"
      },
      "source": [
        "# **PASOS Y SUGERENCIAS**"
      ]
    },
    {
      "cell_type": "markdown",
      "metadata": {
        "id": "rRLdJCb4QuQr"
      },
      "source": [
        "## *PASOS*\n",
        "1. Conectarse a google colab\n",
        "2. Ejecutar primera celda para conectarse al google drive institucional\n",
        "3. Definir rootPath, savePath y ejecutar celda\n",
        "4. Especificar la carpeta por aumentar, ejecutar esa celda y asegurar de que no de error\n",
        "5. Ejecutar la celda MAIN SCRIPT y esperar a que se termine de ejecutar (~45s/MB sin contar al tiempo que requieren las rotaciones)\n",
        "6. Definir la carpeta original, la carpeta aumentada, ejecutar ultima celda y revisar que los videos se hayan aumentado x10\n",
        "7. Entrar a \"Entorno de ejecucion\" y \"Restablecer la configuracion de fabrica del entorno de ejecucion\"\n",
        "8. Repetir pasos 4-5-6-7-8 para otra carpeta\n",
        "\n",
        "TROUBLESHOOTING: En caso de que en el paso 6 vemos que no se aumento exactamente x10:\n",
        "\n",
        "* (Solucion mas facil para nosotros) Usar la celda 'opcional' para borrar la carpeta aumentada, y repetir pasos 7-5-6 para aumentarla de nuevo\n",
        "* (Solucion mas rapida para ejecutar) NO borrar la carpeta aumentada, si no identificar los videos ORIGINALES que no se aumentaron x10, copiarlos a una carpeta temporal, repetir pasos 4-5-6 para aumentar esa carpeta temporal, y mover los videos aumentados para completar la carpeta que no se aumento bien desde un inicio"
      ]
    },
    {
      "cell_type": "markdown",
      "metadata": {
        "id": "NMaiUh2Jb6Wv"
      },
      "source": [
        "## *SUGERENCIAS*\n",
        "* Usar el Drive institucional por su almacenamiento ilimitado\n",
        "* Asegurar de que tienes acceso de 'editor' a la carpeta que quieres aumentar\n",
        "* Por mas pesada que es la carpeta, mas tiempo de demorara en aumentar. Para la primera vez, aumentar la carpeta mas liviana para asegurar de que se entienda el proceso en el menor tiempo posible\n",
        "* Tener cuidado con los espacios que hay en los nombres de las carpetas\n",
        "* Poner un \\ antes de cualquier espacio en tu Path cuando el Path NO esta dentro de comillas.\n",
        "* A veces el ambiente de colab se desconecta de nuestro Drive. Si se produce algun error inexplicable, intentar 'Conectarse a Google Drive' para arreglarlo\n",
        "* 'Restablecer la configuracion de fabrica del entorno de ejecucion' despues de aumentar cada carpeta\n",
        "* Despues de aumentar todas las carpetas necesarias, borrar la carpeta 'save_frames' directamente desde el Drive"
      ]
    },
    {
      "cell_type": "markdown",
      "metadata": {
        "id": "FBIBuNUUrLWA"
      },
      "source": [
        "# **CODIGO PARA MULTIPLICAR UNA CARPETA DE VIDEOS X10**"
      ]
    },
    {
      "cell_type": "markdown",
      "metadata": {
        "id": "4DdOYgU2bRBO"
      },
      "source": [
        "##Conectarse a Google Drive"
      ]
    },
    {
      "cell_type": "code",
      "execution_count": null,
      "metadata": {
        "colab": {
          "base_uri": "https://localhost:8080/"
        },
        "id": "aquxPKKmrKbY",
        "outputId": "015dcbc8-ec84-4bef-9395-4236a637e38c"
      },
      "outputs": [
        {
          "name": "stdout",
          "output_type": "stream",
          "text": [
            "Mounted at /content/gdrive\n"
          ]
        }
      ],
      "source": [
        "from google.colab import drive                                  # De preferencia conectense al Drive con el correo institucional\n",
        "drive.mount('/content/gdrive', force_remount=True)              # ya que ahi tienen almacenamiento ilimitado"
      ]
    },
    {
      "cell_type": "markdown",
      "metadata": {
        "id": "WggYZJNDyzms"
      },
      "source": [
        "##Define imports, functions, rootPath and savePath"
      ]
    },
    {
      "cell_type": "code",
      "execution_count": null,
      "metadata": {
        "colab": {
          "base_uri": "https://localhost:8080/"
        },
        "id": "Mdm2aRaGy-8F",
        "outputId": "400e6888-c168-4458-b6f3-1ea002b457fa"
      },
      "outputs": [
        {
          "name": "stdout",
          "output_type": "stream",
          "text": [
            "Imageio: 'ffmpeg-linux64-v3.3.1' was not found on your computer; downloading it now.\n",
            "Try 1. Download from https://github.com/imageio/imageio-binaries/raw/master/ffmpeg/ffmpeg-linux64-v3.3.1 (43.8 MB)\n",
            "Downloading: 8192/45929032 bytes (0.0%)\b\b\b\b\b\b\b\b\b\b\b\b\b\b\b\b\b\b\b\b\b\b\b\b\b\b3366912/45929032 bytes (7.3%)\b\b\b\b\b\b\b\b\b\b\b\b\b\b\b\b\b\b\b\b\b\b\b\b\b\b\b\b\b6602752/45929032 bytes (14.4%)\b\b\b\b\b\b\b\b\b\b\b\b\b\b\b\b\b\b\b\b\b\b\b\b\b\b\b\b\b\b9756672/45929032 bytes (21.2%)\b\b\b\b\b\b\b\b\b\b\b\b\b\b\b\b\b\b\b\b\b\b\b\b\b\b\b\b\b\b13017088/45929032 bytes (28.3%)\b\b\b\b\b\b\b\b\b\b\b\b\b\b\b\b\b\b\b\b\b\b\b\b\b\b\b\b\b\b\b16064512/45929032 bytes (35.0%)\b\b\b\b\b\b\b\b\b\b\b\b\b\b\b\b\b\b\b\b\b\b\b\b\b\b\b\b\b\b\b18874368/45929032 bytes (41.1%)\b\b\b\b\b\b\b\b\b\b\b\b\b\b\b\b\b\b\b\b\b\b\b\b\b\b\b\b\b\b\b21921792/45929032 bytes (47.7%)\b\b\b\b\b\b\b\b\b\b\b\b\b\b\b\b\b\b\b\b\b\b\b\b\b\b\b\b\b\b\b25092096/45929032 bytes (54.6%)\b\b\b\b\b\b\b\b\b\b\b\b\b\b\b\b\b\b\b\b\b\b\b\b\b\b\b\b\b\b\b28336128/45929032 bytes (61.7%)\b\b\b\b\b\b\b\b\b\b\b\b\b\b\b\b\b\b\b\b\b\b\b\b\b\b\b\b\b\b\b31481856/45929032 bytes (68.5%)\b\b\b\b\b\b\b\b\b\b\b\b\b\b\b\b\b\b\b\b\b\b\b\b\b\b\b\b\b\b\b34725888/45929032 bytes (75.6%)\b\b\b\b\b\b\b\b\b\b\b\b\b\b\b\b\b\b\b\b\b\b\b\b\b\b\b\b\b\b\b37847040/45929032 bytes (82.4%)\b\b\b\b\b\b\b\b\b\b\b\b\b\b\b\b\b\b\b\b\b\b\b\b\b\b\b\b\b\b\b41172992/45929032 bytes (89.6%)\b\b\b\b\b\b\b\b\b\b\b\b\b\b\b\b\b\b\b\b\b\b\b\b\b\b\b\b\b\b\b44474368/45929032 bytes (96.8%)\b\b\b\b\b\b\b\b\b\b\b\b\b\b\b\b\b\b\b\b\b\b\b\b\b\b\b\b\b\b\b45929032/45929032 bytes (100.0%)\n",
            "  Done\n",
            "File saved as /root/.imageio/ffmpeg/ffmpeg-linux64-v3.3.1.\n",
            "\n",
            "Root path:        /content/gdrive/MyDrive/TALOV Internship/Data_testing/Data_Accept\n",
            "Save path:        /content/gdrive/MyDrive/TALOV Internship/Data_testing/Data_Accept_Augmented_1\n"
          ]
        }
      ],
      "source": [
        "from glob import glob\n",
        "import cv2 as cv\n",
        "import numpy as np\n",
        "import os\n",
        "from datetime import datetime\n",
        "import shutil\n",
        "from moviepy.editor import *\n",
        "\n",
        "rootPath = '/content/gdrive/MyDrive/TALOV Internship/Data_testing/Data_Accept'         # Directorio de la carpeta madre en el Drive\n",
        "savePath = '/content/gdrive/MyDrive/TALOV Internship/Data_testing/Data_Accept_Augmented_1' # Nombre que le quieres dar a la nueva carpeta madre aumentada\n",
        "\n",
        "                                                                    # EJEMPLOS DE ROOTPATH Y SAVEPATH\n",
        "# rootPath = '/content/gdrive/MyDrive/Data_testing/ASL'             # Carpeta debe contener subcarpetas, cada subcarpeta con 60 videos\n",
        "# savePath = '/content/gdrive/MyDrive/Data_testing/ASL_Augmented'   # Nueva carpeta para contener subcarpetas aumentadas, cada subcarpeta con 600 videos\n",
        "\n",
        "print('\\nRoot path:       ', rootPath)\n",
        "print('Save path:       ', savePath)\n",
        "\n",
        "# Funcion para ver si existen la carpeta por ser aumentada y/o la carpeta aumentada\n",
        "def checkFolder():\n",
        "  flag = 0\n",
        "  for i in os.listdir(rootPath):\n",
        "    if i==datasetFolder:\n",
        "      print('Carpeta esta lista para aumentar x10 ==>       ', datasetFolder)\n",
        "      flag = 1\n",
        "      try:\n",
        "        for j in os.listdir(savePath):\n",
        "          if j==datasetFolder:   print('ERROR 1: ya existe una carpeta aumentada con ese nombre. Asegurar de que esa carpta este bien aumentada, caso contrario borrarla y aumentarla de nuevo.')\n",
        "      except:   print('Una nueva carpeta madre aumentada sera creada al ejecutar el MAIN SCRIPT por primera vez')\n",
        "  if flag == 0:\n",
        "    print('ERROR 2: No se encuentra la carpeta ==>       ', datasetFolder)\n",
        "    print('         Asegurar de que exista y este bien escrita.')\n",
        "\n",
        "# Funcion para enlistar todas las carpetas en nuestras carpetas madres (original y aumentada)\n",
        "def listWords():\n",
        "  print('----------------Lista de todas las palabras en la carpeta madre.----------------\\n', os.listdir(rootPath))\n",
        "  try: print('\\n--------------Lista de todas las palabras en la carpeta aumentada.--------------\\n', os.listdir(savePath))\n",
        "  except: print('\\nLa carpeta madre aumentada aun no existe, se creara automaticamente despues de ejecutar el \"Main Script\" por primera vez.\\n')\n",
        "\n",
        "# Funcion para borrar una carpeta aumentada\n",
        "def borrarCarpeta(borraEstaPalabra):\n",
        "  print('Wait. Removing excess files . . .')\n",
        "  try:\n",
        "    shutil.rmtree(savePath + '/save_frames/' + borraEstaPalabra +'_frames')    # borra carpeta de frames\n",
        "    print('\"'+borraEstaPalabra + '_frames\" fue borrado exitosamente.')\n",
        "  except: print('La carpeta \"'+ borraEstaPalabra +'_frames\" no existe')\n",
        "  try:\n",
        "    shutil.rmtree(savePath + '/'+ borraEstaPalabra)                            # borra carpeta aumentada\n",
        "    print('\"'+borraEstaPalabra + '\" fue borrado exitosamente.')\n",
        "  except: print('La carpeta \"'+ borraEstaPalabra +'\" no existe')\n",
        "\n",
        "# Funcion para leer un video y guardar todas sus frames\n",
        "def save_frame(video_path, save_dir, save_name):\n",
        "  save_path = os.path.join(save_dir, save_name)\n",
        "  create_dir(save_path)\n",
        "  cap = cv.VideoCapture(video_path)\n",
        "  idx = 0\n",
        "  while True:\n",
        "    ret, frame = cap.read()\n",
        "    if ret == False:\n",
        "      cap.release()\n",
        "      break\n",
        "    cv.imwrite(f\"{save_path}/{idx}.jpg\", frame)\n",
        "    idx += 1\n",
        "  print('--')\n",
        "  print(save_name+\" video was split in frames.\")\n",
        "  frame_array = glob(save_dir+\"/\"+save_name+\"/*\")\n",
        "  return frame_array\n",
        "\n",
        "# Funcion para crear un directorio si es que no existe\n",
        "def create_dir(path):\n",
        "  try:\n",
        "    if not os.path.exists(path):\n",
        "      os.makedirs(path)\n",
        "  except OSError:\n",
        "    print(f\"ERROR: creating directory with name {path}\")\n",
        "\n",
        "# Funcion para crear 9 variaciones de un frame cambiando su valor de iluminacion\n",
        "def augmentation(frame_array, save_name):\n",
        "  for frame_dir in frame_array:\n",
        "    img = cv.imread(frame_dir, cv.IMREAD_UNCHANGED)\n",
        "    ilu1 = adjust_gamma(img, 0.50)                     # ilumination low\n",
        "    ilu2 = adjust_gamma(img, 1.50)                     # ilumination high\n",
        "    ilu3 = adjust_gamma(img, 2.00)\n",
        "    ilu4 = adjust_gamma(img, 2.50)\n",
        "    ilu5 = adjust_gamma(img, 3.00)\n",
        "    ilu6 = adjust_gamma(img, 3.50)\n",
        "    ilu7 = adjust_gamma(img, 4.00)\n",
        "    ilu8 = adjust_gamma(img, 4.50)\n",
        "    ilu9 = adjust_gamma(img, 5.00)\n",
        "    aug_imgs = [ilu1, ilu2, ilu3, ilu4, ilu5, ilu6, ilu7, ilu8, ilu9]\n",
        "    for i in range (1,10):\n",
        "      new_save_name = str(frame_dir)[:len(str(frame_dir))-4] + '_mod_' + str(i) + '.jpg'\n",
        "      cv.imwrite(new_save_name,aug_imgs[i-1])\n",
        "  print(save_name +\" frames were augmented.\")\n",
        "\n",
        "# Funcion para modificar la iluminacion de un frame\n",
        "def adjust_gamma(image, gamma):\n",
        "  invGamma = 1.0 / gamma\n",
        "  table = np.array([((i / 255.0) ** invGamma) * 255\n",
        "    for i in np.arange(0, 256)]).astype(\"uint8\")\n",
        "  return cv.LUT(image, table)\n",
        "\n",
        "# Funcion para leer conjuntos de frames aumentadas y crear nuevos videos\n",
        "def createVideos(word, save_name, save_dir_frame, fps, Hflag):\n",
        "  horizontal_paths = []\n",
        "  print('.Video mods are being created...')\n",
        "  for i in range (1,10):                                                # corre para cada uno de los 9 conjuntos de frames modificados\n",
        "    create_dir(savePath + \"/\" + word)\n",
        "    aug_vid_name = savePath + \"/\" + word + \"/\" + save_name + \"_augmented_\" + str(i) + '.mp4'\n",
        "    horizontal_paths.append(aug_vid_name)\n",
        "    aug_frame_array = glob(save_dir_frame+\"/\"+save_name+\"/\"+\"*_mod_\"+str(i)+\"*\")# crea una lista de paths para un conjunto de frames modificados\n",
        "\n",
        "    img_array = []\n",
        "    for filename in aug_frame_array:                                            # lee cada frame de esa lista de paths y lo agrega a un array\n",
        "      img = cv.imread(filename)\n",
        "      height, width, layers = img.shape\n",
        "      size = (width,height)\n",
        "      img_array.append(img)\n",
        "\n",
        "    out = cv.VideoWriter(aug_vid_name, cv.VideoWriter_fourcc(*'DIVX'), fps,size)# convierte el array de frames modificados a un nuevo video\n",
        "\n",
        "    for j in range(len(img_array)):\n",
        "      out.write(img_array[j])\n",
        "    out.release()\n",
        "  print('.Video mods were created.')\n",
        "\n",
        "  if (Hflag==1):\n",
        "    print(\".Rotating horizontal augmented videos now...\")\n",
        "    for path in horizontal_paths:\n",
        "      save_path = path\n",
        "      myvideo = VideoFileClip(path)\n",
        "      os.remove(path)\n",
        "      myvideo = myvideo.rotate(-90)\n",
        "      myvideo.write_videofile(save_path)\n",
        "\n",
        "# Funcion para determinar si un video tiene dimensiones horizontales\n",
        "def is_Horizontal(path, Hflag):\n",
        "  vid = cv.VideoCapture(path)\n",
        "  fps = vid.get(cv.CAP_PROP_FPS)\n",
        "  width = vid.get(3)\n",
        "  height = vid.get(4)\n",
        "  vid.release()\n",
        "  if height < width:\n",
        "    Hflag = 1\n",
        "  return Hflag, fps"
      ]
    },
    {
      "cell_type": "markdown",
      "metadata": {
        "id": "JdDiVPv5tLd1"
      },
      "source": [
        "## (Opcional) Correr si deseas visualizar:"
      ]
    },
    {
      "cell_type": "code",
      "execution_count": null,
      "metadata": {
        "id": "pXCRh5pdNUOl"
      },
      "outputs": [],
      "source": [
        "# LISTA DE TODO EL CONTENIDO DENTRO DE UNA CARPETA (con sus respectivo tamaños)\n",
        "! du -h -a --max-depth=1    /content/gdrive/MyDrive/Sign\\ Languages/United\\ States\n",
        "                            # aqui va la carpeta madre (rootPath)"
      ]
    },
    {
      "cell_type": "code",
      "execution_count": null,
      "metadata": {
        "id": "nJPXvL1QQpcS"
      },
      "outputs": [],
      "source": [
        "# EL TAMAÑO DE UN SOLO ARCHIVO/CARPETA/VIDEO\n",
        "! du -sh                /content/gdrive/MyDrive/Sign\\ Languages/United\\ States/Great\\ granddaughter\n",
        "                        # aqui va cualquier carpeta o documento"
      ]
    },
    {
      "cell_type": "code",
      "execution_count": null,
      "metadata": {
        "colab": {
          "base_uri": "https://localhost:8080/"
        },
        "id": "g758G6witLs0",
        "outputId": "e9e29d46-eb75-474c-c3ca-0b6fdaa276e8"
      },
      "outputs": [
        {
          "name": "stdout",
          "output_type": "stream",
          "text": [
            "----------------Lista de todas las palabras en la carpeta madre.----------------\n",
            " ['Allergy', 'Anatomy', 'Fine', 'Asphyxiate', 'Ambulance', 'Few', 'Again', 'Audiology', 'Abuse', 'Also', 'Ask', 'Alarm', 'Asthma', 'Alcohol', 'Alcoholic Anonymus', 'Addiction', 'Heartburn', 'Mental health', 'Pill', 'Help', 'Pneumonia', 'Outside', 'Never', 'He', 'Operate', 'Medicine', 'Get', 'Hard', 'Month', 'Pap smear', 'Prefer', 'Learn', 'Home', 'Open', 'Hospital', 'Now', 'Next', 'Hot', 'Offhand', 'For', 'Interpreter', 'Love', 'Inject', 'Nearby', 'Inform', 'Injure', 'Make', 'Mount', 'Rape', 'Keep', 'Read', 'Good', 'House', 'Hearing', 'Hello', 'Question', 'Have', 'Height', 'Nosebleed', 'Give', 'Morning', 'Leave', 'Menstruation', 'Picture', 'Only', 'Pregnant', 'Joint', 'Meaning', 'Hurt', 'Night', 'Prescription', 'Must', 'Run', 'Tomorrow', 'Today', 'Study', 'Try', 'They', 'Some', 'Time', 'Think', 'Until', 'Understand', 'Still', 'Visit', 'Swollen', 'Start', 'Their', 'Therapist', 'Wait', 'True', 'Sprain', 'Sit', 'Test', 'Something', 'Stay', 'Schizophrenic', 'Sufficient', 'Semester', 'Stroke', 'Thing', 'Tell', 'Therapy', 'Veterinarian', 'Stomach', 'Show', 'Stop', 'Sleep', 'Slow', 'Talk', 'Sorry', 'Rub', 'Than', 'Take', 'Texting', 'Thank you', 'Teach', 'Undergraduate', 'Signing', 'Tired', 'Walk', 'Receive', 'Use', 'Sorority', 'Sometimes', 'Teacher', 'Student', 'Rest', 'That', 'With', 'What', 'Wheelchair', 'Why', 'Who', 'Work', 'Will', 'Week', 'Weight', 'When', 'Where', 'Woman', 'Water', 'Warm', 'Which', 'Write', 'Purple', 'Sweetheart', 'University', 'Yellow', 'Up', 'Gray', 'Stairway', 'Gold', 'Red', 'Partner', 'White', 'Green', 'Mother', 'Girlfriend', 'Supervisor', 'Vicepresident', 'Waterfountain', 'Friend', 'Pink', 'Silver', 'Upstairs', 'Tan', 'Average', 'Autumn', 'And', 'Argue', 'Yesterday', 'Avoid', 'Always', 'Approve', 'Airport', 'After', 'Alone', 'Wrong', 'Against', 'Angry', 'Attitude', 'Yearlong', 'Yourself', 'Away', 'Allow', 'Anything', 'Any', 'Answer', 'Agree', 'Arrive', 'Follow', 'Happy', 'Bad', 'Your', 'You', 'Orange A', 'Popcorn', 'Lemon', 'Potato', 'Strawberry', 'Ice Cream', 'Onion', 'Spaghetti', 'Pumpkin', 'Toast', 'Salami', 'Grape', 'Hot Dog', 'Flesh', 'Sausage', 'Juice', 'Meat', 'Pie', 'Lasagna', 'Milkshake', 'Sour cream', 'How', 'If', 'Internet', 'Please', 'School', 'Know', 'Live', 'She', 'More', 'Other', 'Me', 'Old', 'People', 'Locate', 'Many', 'Like', 'Same', 'Say', 'No', 'See', 'Little', 'Remember', 'Should', 'Ok', 'Name', 'Meet', 'Not', 'Need', 'New', 'Girl', 'Ours', 'My', 'Staff', 'President', 'Organization', 'Room', 'Stairs', 'Office', 'Secretary', 'None', 'Police ', 'Restroom', 'Person', 'Assistant', 'Fox', 'Alligator', 'Raccoon', 'Wolf', 'Squirrel', 'Skunk', 'Rooster', 'Monkey', 'Lion', 'Sheep', 'Goat', 'Kangaroo', 'Gorilla', 'Tiger', 'Turkey', 'Fish', 'Pig', 'Snake', 'Word', 'Rabbit', 'Sister', 'Story', 'Worse', 'Share', 'Service', 'Watch', 'Young', 'Since', 'Turtle', 'Summer', 'Sure', 'Struggle', 'Spring', 'Wash', 'Mouse', 'Horse', 'Sick', 'Winter', 'Wish', 'Soon', 'Apple', 'August', 'April', 'Tuesday', 'June', 'November', 'Saturday', 'Wednesday', 'May', 'Thursday', 'Sunday', 'March', 'July', 'Friday', 'January', 'Monday', 'Stepmother', 'Labor day', 'Stepson', 'Stepbrother', 'Thanksgiving', \"Valentine's day\", 'Hanukkah', 'Spring break', 'Stepdaughter', 'Stepfather', 'Halloween', 'Stepsister', 'Memorial day', 'Mothers day', 'Headache', 'Heal', 'Health', 'Flu', 'Heart attack', 'Idea', 'Look like', 'Happen', 'Hold', 'From', 'Party', 'Important', 'Pen', 'Overlook', 'Lose', 'Grow', 'Life', 'Gift', 'Include', 'Problem', 'Guess', 'Paper', 'Letter', 'Number', 'Milk', 'Toilet', 'Labor (Birth)', 'Not yet', 'Senior year', 'September', 'Author', 'Aunt', 'Baby', 'Fraternity', 'Kinesiology', 'Graduation', 'High school', 'Husband', 'Homework', 'Linguistics', 'Fiance', 'Open book', 'Page', 'Nephew', 'Niece', 'Physics', 'Pencil sharpener', 'Parents', 'Pencil', 'Philosophy', 'Science', 'Son', 'Twins', 'Siblings', 'Spouse', 'Triplets', 'Preschool', 'Tomato', 'Uncle', 'Vegetable', 'Professor', 'Wife', 'Vodka', 'Good friend', 'Her-His-Its (pointing)', 'Her-His-Its (possesive)', 'Look for', 'Mother in law', 'Son in law', 'Orange (fruit)', 'About', 'Accept', 'Advisor', 'Afternoon', 'Aide', 'Aids', 'Almost', 'Announce', 'Attention', 'Bacon', 'Bagel', 'Banana', 'Basement', 'Basic', 'Bathroom', 'Bear', 'Beautiful', 'Because', 'Beer', 'Before', 'Begin', 'Believe', 'Best', 'Best friend', 'Better', 'Big', 'Bird', 'Birth', 'Birthday', 'Black', 'Blind', 'Blood', 'Blood pressure', 'Blue', 'Body', 'Book', 'Boss', 'Both', 'Bowel movement', 'Boy', 'Boyfriend', 'Brace', 'Braille', 'Bread', 'Breastfeed', 'Breathe', 'Bring', 'Brother', 'Brother in law', 'Brown', 'Bruise', 'Busy', 'But', 'Butter', 'Buy', 'By oneself', 'Cake', 'Can', 'Cancer', 'Car', 'Carrot', 'Cat', 'Chalk', 'Champagne', 'Change', 'Cheese', 'Cherry', 'Chicken', 'Child', 'Childbirth', 'Children', 'Chocolate', 'Christmas', 'Circulation', 'Clam', 'Class', 'Classroom', 'Clean up', 'Close (near)', 'Close (shut)', 'Coach', 'Coffee', 'Cold', 'College', 'Come', 'Comfortable', 'Company (business)', 'Condom', 'Contact lens', 'Corn', 'Cough', 'Cough syrup', 'Course', 'Cousin', 'Cow', 'Cracker', 'Cramp', 'Cutlet', 'Daughter', 'Daughter in law', 'Deaf', 'December', 'Deer', 'Degree (college)', 'Dejected', 'Dentist', 'Department', 'Depressed', 'Dermatologist', 'Diabetes', 'Die', 'Different', 'Disability', 'Disease', 'Dispatch', 'Doctor', 'Doctorate (PhD)', 'Dog', 'Done', 'Donkey', 'Door', 'Doubt', 'Down ', 'Downstairs', 'Dressing', 'Drink', 'Drive', 'Drug abuse', 'Early', 'Easter', 'Easy', 'Eat', 'Egg', 'Election day', 'Elementary', 'Elephant', 'Elevator ', 'Email address', 'Emergency', 'Emotional abuse', 'Epilepsy', 'Everyday', 'Everything', 'Ex-husband', 'Ex-wife', 'Exam', 'Example', 'Excuse me', 'Faculty', 'Fail', 'Faint', 'Family', 'Far', 'Fast', 'Father', 'Father in law', 'Fathers day', 'February', 'Female', 'Find out', 'First aid', 'Flag day', 'Floor', 'Flu shot', 'Food', 'Fracture', 'Giraffe', 'Gone', 'Great granddaughter', 'Janitor', 'Last', 'Late', 'Male or Man', 'Most', 'October', 'Play', 'Sister in law', 'Yes']\n",
            "\n",
            "La carpeta madre aumentada aun no existe, se creara automaticamente despues de ejecutar el \"Main Script\" por primera vez.\n",
            "\n"
          ]
        }
      ],
      "source": [
        "# LISTAS DE TODAS LAS PALABRAS EN LA CARPETA MADRE Y LA NUEVA CARPETA AUMENTADA\n",
        "listWords()"
      ]
    },
    {
      "cell_type": "markdown",
      "metadata": {
        "id": "9Xm69vR_ERzI"
      },
      "source": [
        "##(Opcional) Para borrar carpetas"
      ]
    },
    {
      "cell_type": "code",
      "execution_count": null,
      "metadata": {
        "colab": {
          "base_uri": "https://localhost:8080/"
        },
        "id": "mMzuh9yNESFp",
        "outputId": "da107d25-e0e4-4b51-e73f-e0378be634d0"
      },
      "outputs": [
        {
          "name": "stdout",
          "output_type": "stream",
          "text": [
            "Wait. Removing excess files . . .\n",
            "La carpeta \"Accept_frames\" no existe\n",
            "La carpeta \"Accept\" no existe\n"
          ]
        }
      ],
      "source": [
        "# SOLO USAR si algo salio mal y quieres volver a aumentar una carpeta\n",
        "# Solo se borrara la carpeta aumentada y los frames de una palabra\n",
        "# NO se borrara la carpeta madre\n",
        "\n",
        "borraEstaPalabra = 'Accept'           # especificar la carpeta aumentada que desea borrar\n",
        "borrarCarpeta(borraEstaPalabra)"
      ]
    },
    {
      "cell_type": "markdown",
      "metadata": {
        "id": "dMlxv7FLsUsd"
      },
      "source": [
        "## Especificar el nombre de la carpeta/palabra por aumentar\n"
      ]
    },
    {
      "cell_type": "code",
      "execution_count": null,
      "metadata": {
        "colab": {
          "base_uri": "https://localhost:8080/"
        },
        "id": "usJ9WnXnW57U",
        "outputId": "64eda1d0-689e-4cc7-db81-5d110e947ac3"
      },
      "outputs": [
        {
          "name": "stdout",
          "output_type": "stream",
          "text": [
            "Carpeta esta lista para aumentar x10 ==>        Accept\n",
            "Una nueva carpeta madre aumentada sera creada al ejecutar el MAIN SCRIPT por primera vez\n"
          ]
        }
      ],
      "source": [
        "datasetFolder = 'Accept'       # Definir el nombre de la carpeta por aumentar y verificar que no de error\n",
        "checkFolder()"
      ]
    },
    {
      "cell_type": "markdown",
      "metadata": {
        "id": "2mkMngary7p1"
      },
      "source": [
        "\n",
        "##MAIN SCRIPT"
      ]
    },
    {
      "cell_type": "code",
      "execution_count": null,
      "metadata": {
        "colab": {
          "background_save": true,
          "base_uri": "https://localhost:8080/"
        },
        "id": "z_tcG7rRidOG",
        "outputId": "bccf838c-e82f-42e1-b1b8-40d10361052c"
      },
      "outputs": [
        {
          "name": "stdout",
          "output_type": "stream",
          "text": [
            "Successfully created new Augmented Accept folder with the original videos\n",
            "--\n",
            "Accept_original_13 video was split in frames.\n",
            "Accept_original_13 frames were augmented.\n",
            ".Video mods are being created...\n",
            ".Video mods were created.\n",
            ".Rotating horizontal augmented videos now...\n",
            "[MoviePy] >>>> Building video /content/gdrive/MyDrive/TALOV Internship/Data_testing/Data_Accept_Augmented_1/Accept/Accept_original_13_augmented_1.mp4\n",
            "[MoviePy] Writing video /content/gdrive/MyDrive/TALOV Internship/Data_testing/Data_Accept_Augmented_1/Accept/Accept_original_13_augmented_1.mp4\n"
          ]
        },
        {
          "name": "stderr",
          "output_type": "stream",
          "text": [
            "100%|██████████| 33/33 [00:02<00:00, 13.79it/s]\n"
          ]
        },
        {
          "name": "stdout",
          "output_type": "stream",
          "text": [
            "[MoviePy] Done.\n",
            "[MoviePy] >>>> Video ready: /content/gdrive/MyDrive/TALOV Internship/Data_testing/Data_Accept_Augmented_1/Accept/Accept_original_13_augmented_1.mp4 \n",
            "\n",
            "[MoviePy] >>>> Building video /content/gdrive/MyDrive/TALOV Internship/Data_testing/Data_Accept_Augmented_1/Accept/Accept_original_13_augmented_2.mp4\n",
            "[MoviePy] Writing video /content/gdrive/MyDrive/TALOV Internship/Data_testing/Data_Accept_Augmented_1/Accept/Accept_original_13_augmented_2.mp4\n"
          ]
        },
        {
          "name": "stderr",
          "output_type": "stream",
          "text": [
            "100%|██████████| 33/33 [00:02<00:00, 13.87it/s]\n"
          ]
        },
        {
          "name": "stdout",
          "output_type": "stream",
          "text": [
            "[MoviePy] Done.\n",
            "[MoviePy] >>>> Video ready: /content/gdrive/MyDrive/TALOV Internship/Data_testing/Data_Accept_Augmented_1/Accept/Accept_original_13_augmented_2.mp4 \n",
            "\n",
            "[MoviePy] >>>> Building video /content/gdrive/MyDrive/TALOV Internship/Data_testing/Data_Accept_Augmented_1/Accept/Accept_original_13_augmented_3.mp4\n",
            "[MoviePy] Writing video /content/gdrive/MyDrive/TALOV Internship/Data_testing/Data_Accept_Augmented_1/Accept/Accept_original_13_augmented_3.mp4\n"
          ]
        },
        {
          "name": "stderr",
          "output_type": "stream",
          "text": [
            "100%|██████████| 33/33 [00:02<00:00, 14.10it/s]\n"
          ]
        },
        {
          "name": "stdout",
          "output_type": "stream",
          "text": [
            "[MoviePy] Done.\n",
            "[MoviePy] >>>> Video ready: /content/gdrive/MyDrive/TALOV Internship/Data_testing/Data_Accept_Augmented_1/Accept/Accept_original_13_augmented_3.mp4 \n",
            "\n",
            "[MoviePy] >>>> Building video /content/gdrive/MyDrive/TALOV Internship/Data_testing/Data_Accept_Augmented_1/Accept/Accept_original_13_augmented_4.mp4\n",
            "[MoviePy] Writing video /content/gdrive/MyDrive/TALOV Internship/Data_testing/Data_Accept_Augmented_1/Accept/Accept_original_13_augmented_4.mp4\n"
          ]
        },
        {
          "name": "stderr",
          "output_type": "stream",
          "text": [
            "100%|██████████| 33/33 [00:02<00:00, 15.70it/s]\n"
          ]
        },
        {
          "name": "stdout",
          "output_type": "stream",
          "text": [
            "[MoviePy] Done.\n",
            "[MoviePy] >>>> Video ready: /content/gdrive/MyDrive/TALOV Internship/Data_testing/Data_Accept_Augmented_1/Accept/Accept_original_13_augmented_4.mp4 \n",
            "\n",
            "[MoviePy] >>>> Building video /content/gdrive/MyDrive/TALOV Internship/Data_testing/Data_Accept_Augmented_1/Accept/Accept_original_13_augmented_5.mp4\n",
            "[MoviePy] Writing video /content/gdrive/MyDrive/TALOV Internship/Data_testing/Data_Accept_Augmented_1/Accept/Accept_original_13_augmented_5.mp4\n"
          ]
        },
        {
          "name": "stderr",
          "output_type": "stream",
          "text": [
            "100%|██████████| 33/33 [00:02<00:00, 15.44it/s]\n"
          ]
        },
        {
          "name": "stdout",
          "output_type": "stream",
          "text": [
            "[MoviePy] Done.\n",
            "[MoviePy] >>>> Video ready: /content/gdrive/MyDrive/TALOV Internship/Data_testing/Data_Accept_Augmented_1/Accept/Accept_original_13_augmented_5.mp4 \n",
            "\n",
            "[MoviePy] >>>> Building video /content/gdrive/MyDrive/TALOV Internship/Data_testing/Data_Accept_Augmented_1/Accept/Accept_original_13_augmented_6.mp4\n",
            "[MoviePy] Writing video /content/gdrive/MyDrive/TALOV Internship/Data_testing/Data_Accept_Augmented_1/Accept/Accept_original_13_augmented_6.mp4\n"
          ]
        },
        {
          "name": "stderr",
          "output_type": "stream",
          "text": [
            "100%|██████████| 33/33 [00:02<00:00, 14.85it/s]\n"
          ]
        },
        {
          "name": "stdout",
          "output_type": "stream",
          "text": [
            "[MoviePy] Done.\n",
            "[MoviePy] >>>> Video ready: /content/gdrive/MyDrive/TALOV Internship/Data_testing/Data_Accept_Augmented_1/Accept/Accept_original_13_augmented_6.mp4 \n",
            "\n",
            "[MoviePy] >>>> Building video /content/gdrive/MyDrive/TALOV Internship/Data_testing/Data_Accept_Augmented_1/Accept/Accept_original_13_augmented_7.mp4\n",
            "[MoviePy] Writing video /content/gdrive/MyDrive/TALOV Internship/Data_testing/Data_Accept_Augmented_1/Accept/Accept_original_13_augmented_7.mp4\n"
          ]
        },
        {
          "name": "stderr",
          "output_type": "stream",
          "text": [
            "100%|██████████| 33/33 [00:02<00:00, 14.86it/s]\n"
          ]
        },
        {
          "name": "stdout",
          "output_type": "stream",
          "text": [
            "[MoviePy] Done.\n",
            "[MoviePy] >>>> Video ready: /content/gdrive/MyDrive/TALOV Internship/Data_testing/Data_Accept_Augmented_1/Accept/Accept_original_13_augmented_7.mp4 \n",
            "\n",
            "[MoviePy] >>>> Building video /content/gdrive/MyDrive/TALOV Internship/Data_testing/Data_Accept_Augmented_1/Accept/Accept_original_13_augmented_8.mp4\n",
            "[MoviePy] Writing video /content/gdrive/MyDrive/TALOV Internship/Data_testing/Data_Accept_Augmented_1/Accept/Accept_original_13_augmented_8.mp4\n"
          ]
        },
        {
          "name": "stderr",
          "output_type": "stream",
          "text": [
            "100%|██████████| 33/33 [00:02<00:00, 14.15it/s]\n"
          ]
        },
        {
          "name": "stdout",
          "output_type": "stream",
          "text": [
            "[MoviePy] Done.\n",
            "[MoviePy] >>>> Video ready: /content/gdrive/MyDrive/TALOV Internship/Data_testing/Data_Accept_Augmented_1/Accept/Accept_original_13_augmented_8.mp4 \n",
            "\n",
            "[MoviePy] >>>> Building video /content/gdrive/MyDrive/TALOV Internship/Data_testing/Data_Accept_Augmented_1/Accept/Accept_original_13_augmented_9.mp4\n",
            "[MoviePy] Writing video /content/gdrive/MyDrive/TALOV Internship/Data_testing/Data_Accept_Augmented_1/Accept/Accept_original_13_augmented_9.mp4\n"
          ]
        },
        {
          "name": "stderr",
          "output_type": "stream",
          "text": [
            "100%|██████████| 33/33 [00:02<00:00, 14.21it/s]\n"
          ]
        },
        {
          "name": "stdout",
          "output_type": "stream",
          "text": [
            "[MoviePy] Done.\n",
            "[MoviePy] >>>> Video ready: /content/gdrive/MyDrive/TALOV Internship/Data_testing/Data_Accept_Augmented_1/Accept/Accept_original_13_augmented_9.mp4 \n",
            "\n",
            "--Time elapsed for augmenting video # 1 :  0:01:06.479555\n",
            "--\n",
            "Accept_whiteback_whitetshirt_glasses video was split in frames.\n",
            "Accept_whiteback_whitetshirt_glasses frames were augmented.\n",
            ".Video mods are being created...\n",
            ".Video mods were created.\n",
            ".Rotating horizontal augmented videos now...\n",
            "[MoviePy] >>>> Building video /content/gdrive/MyDrive/TALOV Internship/Data_testing/Data_Accept_Augmented_1/Accept/Accept_whiteback_whitetshirt_glasses_augmented_1.mp4\n",
            "[MoviePy] Writing video /content/gdrive/MyDrive/TALOV Internship/Data_testing/Data_Accept_Augmented_1/Accept/Accept_whiteback_whitetshirt_glasses_augmented_1.mp4\n"
          ]
        },
        {
          "name": "stderr",
          "output_type": "stream",
          "text": [
            "100%|██████████| 245/245 [00:34<00:00,  7.10it/s]\n"
          ]
        },
        {
          "name": "stdout",
          "output_type": "stream",
          "text": [
            "[MoviePy] Done.\n",
            "[MoviePy] >>>> Video ready: /content/gdrive/MyDrive/TALOV Internship/Data_testing/Data_Accept_Augmented_1/Accept/Accept_whiteback_whitetshirt_glasses_augmented_1.mp4 \n",
            "\n",
            "[MoviePy] >>>> Building video /content/gdrive/MyDrive/TALOV Internship/Data_testing/Data_Accept_Augmented_1/Accept/Accept_whiteback_whitetshirt_glasses_augmented_2.mp4\n",
            "[MoviePy] Writing video /content/gdrive/MyDrive/TALOV Internship/Data_testing/Data_Accept_Augmented_1/Accept/Accept_whiteback_whitetshirt_glasses_augmented_2.mp4\n"
          ]
        },
        {
          "name": "stderr",
          "output_type": "stream",
          "text": [
            "100%|██████████| 245/245 [00:31<00:00,  7.75it/s]\n"
          ]
        },
        {
          "name": "stdout",
          "output_type": "stream",
          "text": [
            "[MoviePy] Done.\n",
            "[MoviePy] >>>> Video ready: /content/gdrive/MyDrive/TALOV Internship/Data_testing/Data_Accept_Augmented_1/Accept/Accept_whiteback_whitetshirt_glasses_augmented_2.mp4 \n",
            "\n",
            "[MoviePy] >>>> Building video /content/gdrive/MyDrive/TALOV Internship/Data_testing/Data_Accept_Augmented_1/Accept/Accept_whiteback_whitetshirt_glasses_augmented_3.mp4\n",
            "[MoviePy] Writing video /content/gdrive/MyDrive/TALOV Internship/Data_testing/Data_Accept_Augmented_1/Accept/Accept_whiteback_whitetshirt_glasses_augmented_3.mp4\n"
          ]
        },
        {
          "name": "stderr",
          "output_type": "stream",
          "text": [
            "100%|██████████| 245/245 [00:31<00:00,  7.71it/s]\n"
          ]
        },
        {
          "name": "stdout",
          "output_type": "stream",
          "text": [
            "[MoviePy] Done.\n",
            "[MoviePy] >>>> Video ready: /content/gdrive/MyDrive/TALOV Internship/Data_testing/Data_Accept_Augmented_1/Accept/Accept_whiteback_whitetshirt_glasses_augmented_3.mp4 \n",
            "\n",
            "[MoviePy] >>>> Building video /content/gdrive/MyDrive/TALOV Internship/Data_testing/Data_Accept_Augmented_1/Accept/Accept_whiteback_whitetshirt_glasses_augmented_4.mp4\n",
            "[MoviePy] Writing video /content/gdrive/MyDrive/TALOV Internship/Data_testing/Data_Accept_Augmented_1/Accept/Accept_whiteback_whitetshirt_glasses_augmented_4.mp4\n"
          ]
        },
        {
          "name": "stderr",
          "output_type": "stream",
          "text": [
            "100%|██████████| 245/245 [00:33<00:00,  7.36it/s]\n"
          ]
        },
        {
          "name": "stdout",
          "output_type": "stream",
          "text": [
            "[MoviePy] Done.\n",
            "[MoviePy] >>>> Video ready: /content/gdrive/MyDrive/TALOV Internship/Data_testing/Data_Accept_Augmented_1/Accept/Accept_whiteback_whitetshirt_glasses_augmented_4.mp4 \n",
            "\n",
            "[MoviePy] >>>> Building video /content/gdrive/MyDrive/TALOV Internship/Data_testing/Data_Accept_Augmented_1/Accept/Accept_whiteback_whitetshirt_glasses_augmented_5.mp4\n",
            "[MoviePy] Writing video /content/gdrive/MyDrive/TALOV Internship/Data_testing/Data_Accept_Augmented_1/Accept/Accept_whiteback_whitetshirt_glasses_augmented_5.mp4\n"
          ]
        },
        {
          "name": "stderr",
          "output_type": "stream",
          "text": [
            "100%|██████████| 245/245 [00:30<00:00,  8.11it/s]\n"
          ]
        },
        {
          "name": "stdout",
          "output_type": "stream",
          "text": [
            "[MoviePy] Done.\n",
            "[MoviePy] >>>> Video ready: /content/gdrive/MyDrive/TALOV Internship/Data_testing/Data_Accept_Augmented_1/Accept/Accept_whiteback_whitetshirt_glasses_augmented_5.mp4 \n",
            "\n",
            "[MoviePy] >>>> Building video /content/gdrive/MyDrive/TALOV Internship/Data_testing/Data_Accept_Augmented_1/Accept/Accept_whiteback_whitetshirt_glasses_augmented_6.mp4\n",
            "[MoviePy] Writing video /content/gdrive/MyDrive/TALOV Internship/Data_testing/Data_Accept_Augmented_1/Accept/Accept_whiteback_whitetshirt_glasses_augmented_6.mp4\n"
          ]
        },
        {
          "name": "stderr",
          "output_type": "stream",
          "text": [
            "100%|██████████| 245/245 [00:30<00:00,  8.14it/s]\n"
          ]
        },
        {
          "name": "stdout",
          "output_type": "stream",
          "text": [
            "[MoviePy] Done.\n",
            "[MoviePy] >>>> Video ready: /content/gdrive/MyDrive/TALOV Internship/Data_testing/Data_Accept_Augmented_1/Accept/Accept_whiteback_whitetshirt_glasses_augmented_6.mp4 \n",
            "\n",
            "[MoviePy] >>>> Building video /content/gdrive/MyDrive/TALOV Internship/Data_testing/Data_Accept_Augmented_1/Accept/Accept_whiteback_whitetshirt_glasses_augmented_7.mp4\n",
            "[MoviePy] Writing video /content/gdrive/MyDrive/TALOV Internship/Data_testing/Data_Accept_Augmented_1/Accept/Accept_whiteback_whitetshirt_glasses_augmented_7.mp4\n"
          ]
        },
        {
          "name": "stderr",
          "output_type": "stream",
          "text": [
            " 67%|██████▋   | 164/245 [00:18<00:11,  7.16it/s]"
          ]
        }
      ],
      "source": [
        "def main():\n",
        "  folderPath = rootPath + '/' + datasetFolder\n",
        "  augfolderPath = savePath + '/' + datasetFolder\n",
        "  total_start_time = datetime.now()                               # toma el tiempo total\n",
        "  shutil.copytree(folderPath, augfolderPath)                      # hace una copia de todos los videos originales\n",
        "  print('Successfully created new Augmented', datasetFolder, 'folder with the original videos')\n",
        "  video_paths = glob(augfolderPath + \"/*\")                        # hace una lista de los paths de todos los videos dentro de la carpeta\n",
        "  save_dir_frame = savePath+'/save_frames/'+datasetFolder+'_frames'  # el path para guardar todos los frame aumentados\n",
        "  idx = 0\n",
        "  for path in video_paths:                                        # corre para cada video dentro de mi carpeta\n",
        "    Hflag = 0\n",
        "    try:\n",
        "      start_time = datetime.now()                                         # toma el tiempo por video\n",
        "      save_name = path.split(\"/\")[-1].split(\".\")[0]\n",
        "      frame_array = save_frame(path, save_dir_frame, save_name)           # 1. Guarda todos los frames de un video y hace una lista de los paths\n",
        "      augmentation(frame_array, save_name)                                # 2. Augmenta los frames de un video x10\n",
        "      Hflag, fps = is_Horizontal(path, Hflag)                             # 3. Revisa si el video es horizontal para despues girarlo\n",
        "      createVideos(datasetFolder, save_name, save_dir_frame, fps, Hflag)     # 4. Usa los frames aumentados para crear 9 nuevos videos\n",
        "      idx = idx + 1\n",
        "      print('--Time elapsed for augmenting video #',idx,': ', datetime.now() - start_time)\n",
        "    except: print('ERROR augmenting: ', save_name)\n",
        "  print('----TOTAL TIME FOR AUGMENTING',idx,'VIDEOS IN',datasetFolder, 'FOLDER ---- ', datetime.now() - total_start_time)\n",
        "  print('----READY TO AUGMENT A NEW FOLDER!')\n",
        "  print('\\n\\n\\n***Sugerencia . Reiniciar el entorno de ejecucion despues de ampliar una carpeta para \\n\\t\\t evitar que el Disco se llene y tengas que volver a correr todo :(')\n",
        "  print('\\n\\t\\t\"Entorno de ejecucion\" -> \"Restablecer la configuracion de fabrica del entorno de ejecucion\"')\n",
        "\n",
        "main()"
      ]
    },
    {
      "cell_type": "markdown",
      "metadata": {
        "id": "7f2cPJW5X2p2"
      },
      "source": [
        "##Para confirmar que los 60 videos en las carpetas fueron aumentados x10 (600)"
      ]
    },
    {
      "cell_type": "code",
      "execution_count": null,
      "metadata": {
        "colab": {
          "base_uri": "https://localhost:8080/"
        },
        "id": "vVCKU7T9t9HH",
        "outputId": "8c4a96d4-7f34-4f8f-b30f-ef6b651dffcb"
      },
      "outputs": [
        {
          "name": "stdout",
          "output_type": "stream",
          "text": [
            "60\n",
            "420\n"
          ]
        }
      ],
      "source": [
        "! ls                /content/gdrive/MyDrive/Sign\\ Languages/Original/United\\ States/Labor\\ day | wc -l\n",
        "                    # rootPath + \"/miCarpeta\"\n",
        "\n",
        "! ls               /content/gdrive/MyDrive/Data_testing/United\\ States\\ Augmented/Labor\\ day | wc -l\n",
        "                    # savePath + \"/miCarpeta\""
      ]
    }
  ],
  "metadata": {
    "colab": {
      "collapsed_sections": [
        "4DdOYgU2bRBO",
        "WggYZJNDyzms",
        "JdDiVPv5tLd1"
      ],
      "provenance": []
    },
    "kernelspec": {
      "display_name": "Python 3",
      "name": "python3"
    },
    "language_info": {
      "name": "python"
    }
  },
  "nbformat": 4,
  "nbformat_minor": 0
}
