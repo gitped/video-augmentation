{
  "cells": [
    {
      "cell_type": "markdown",
      "metadata": {
        "id": "_wSLQdw51ZCA"
      },
      "source": [
        "# Pasos para rotar videos dentro de una carpeta\n",
        "\n",
        "* En todos los casos hay que conectarse al Drive y definir 'Path' y 'Degree'\n",
        "* Solo en la *Celda 1* tambien hay que definir una lista de los videos que quieres rotar\n",
        "* Asegurar que se hayan rotado el 100% de los videos en tu lista\n",
        "\n",
        "** El tiempo de ejecucion depende de tu calidad de internet. Viendo cuanto se demora un video en rotar y sabiendo la cantidad de videos por aumentar puedes hacer una estimacion de cuanto se va a demorar la ejecucion.*\n",
        "\n",
        "** Los cambios se pueden demorar minutos en visualizarse en el drive.*\n",
        "\n",
        "** Si deseas confirmar inmediatamente que un video se giro correctamente puedes descargar ese video desde el drive y reproducirlo*"
      ]
    },
    {
      "cell_type": "markdown",
      "metadata": {
        "id": "isxKZrls4iYH"
      },
      "source": [
        "# Conexion al Google Drive"
      ]
    },
    {
      "cell_type": "code",
      "execution_count": null,
      "metadata": {
        "colab": {
          "base_uri": "https://localhost:8080/"
        },
        "id": "DJ-duOVVnQOe",
        "outputId": "b3d89fb3-706f-4491-a0f7-880c1c7c0677"
      },
      "outputs": [
        {
          "name": "stdout",
          "output_type": "stream",
          "text": [
            "Mounted at /content/gdrive\n"
          ]
        }
      ],
      "source": [
        "# Connect to Google Drive\n",
        "from google.colab import drive                                  \n",
        "drive.mount('/content/gdrive', force_remount=True)"
      ]
    },
    {
      "cell_type": "markdown",
      "metadata": {
        "id": "qYoOIy5g4l3_"
      },
      "source": [
        "# Celda 1\n",
        "* Con esta celda se rotaran todos los videos que se encuentran en la lista \"List\"\n",
        "* Hay que crear una lista de videos *(ej. List=[\"vid1.mp4\", \"vid2.mp4\", \"vid5.mp4\"])*\n",
        "* Usar esta celda en caso de que existan pocos videos horizontales que hay que rotar en donde se haga facil hacer una lista de dichos videos horizontales"
      ]
    },
    {
      "cell_type": "code",
      "execution_count": null,
      "metadata": {
        "colab": {
          "base_uri": "https://localhost:8080/"
        },
        "id": "Y3n3NhhlngdC",
        "outputId": "8f3afd2a-dab8-41f1-9756-92f58bb3909c"
      },
      "outputs": [
        {
          "name": "stdout",
          "output_type": "stream",
          "text": [
            "Imageio: 'ffmpeg-linux64-v3.3.1' was not found on your computer; downloading it now.\n",
            "Try 1. Download from https://github.com/imageio/imageio-binaries/raw/master/ffmpeg/ffmpeg-linux64-v3.3.1 (43.8 MB)\n",
            "Downloading: 8192/45929032 bytes (0.0%)\b\b\b\b\b\b\b\b\b\b\b\b\b\b\b\b\b\b\b\b\b\b\b\b\b\b2023424/45929032 bytes (4.4%)\b\b\b\b\b\b\b\b\b\b\b\b\b\b\b\b\b\b\b\b\b\b\b\b\b\b\b\b\b5308416/45929032 bytes (11.6%)\b\b\b\b\b\b\b\b\b\b\b\b\b\b\b\b\b\b\b\b\b\b\b\b\b\b\b\b\b\b8290304/45929032 bytes (18.1%)\b\b\b\b\b\b\b\b\b\b\b\b\b\b\b\b\b\b\b\b\b\b\b\b\b\b\b\b\b\b11280384/45929032 bytes (24.6%)\b\b\b\b\b\b\b\b\b\b\b\b\b\b\b\b\b\b\b\b\b\b\b\b\b\b\b\b\b\b\b14327808/45929032 bytes (31.2%)\b\b\b\b\b\b\b\b\b\b\b\b\b\b\b\b\b\b\b\b\b\b\b\b\b\b\b\b\b\b\b17326080/45929032 bytes (37.7%)\b\b\b\b\b\b\b\b\b\b\b\b\b\b\b\b\b\b\b\b\b\b\b\b\b\b\b\b\b\b\b20209664/45929032 bytes (44.0%)\b\b\b\b\b\b\b\b\b\b\b\b\b\b\b\b\b\b\b\b\b\b\b\b\b\b\b\b\b\b\b23330816/45929032 bytes (50.8%)\b\b\b\b\b\b\b\b\b\b\b\b\b\b\b\b\b\b\b\b\b\b\b\b\b\b\b\b\b\b\b26624000/45929032 bytes (58.0%)\b\b\b\b\b\b\b\b\b\b\b\b\b\b\b\b\b\b\b\b\b\b\b\b\b\b\b\b\b\b\b29712384/45929032 bytes (64.7%)\b\b\b\b\b\b\b\b\b\b\b\b\b\b\b\b\b\b\b\b\b\b\b\b\b\b\b\b\b\b\b33071104/45929032 bytes (72.0%)\b\b\b\b\b\b\b\b\b\b\b\b\b\b\b\b\b\b\b\b\b\b\b\b\b\b\b\b\b\b\b36552704/45929032 bytes (79.6%)\b\b\b\b\b\b\b\b\b\b\b\b\b\b\b\b\b\b\b\b\b\b\b\b\b\b\b\b\b\b\b39706624/45929032 bytes (86.5%)\b\b\b\b\b\b\b\b\b\b\b\b\b\b\b\b\b\b\b\b\b\b\b\b\b\b\b\b\b\b\b42876928/45929032 bytes (93.4%)\b\b\b\b\b\b\b\b\b\b\b\b\b\b\b\b\b\b\b\b\b\b\b\b\b\b\b\b\b\b\b45929032/45929032 bytes (100.0%)\n",
            "  Done\n",
            "File saved as /root/.imageio/ffmpeg/ffmpeg-linux64-v3.3.1.\n",
            "Starting Video Correction . . .\n",
            "\n",
            "Rotating 1/1. . .\n",
            "[MoviePy] >>>> Building video /content/gdrive/MyDrive/Data_testing/Data_augmented_13_resolution/Anniversaire/Anniversaire_azurecloth_creamback_lefthand_noinit_augmented_9.mp4\n",
            "[MoviePy] Writing video /content/gdrive/MyDrive/Data_testing/Data_augmented_13_resolution/Anniversaire/Anniversaire_azurecloth_creamback_lefthand_noinit_augmented_9.mp4\n"
          ]
        },
        {
          "name": "stderr",
          "output_type": "stream",
          "text": [
            " 99%|█████████▉| 114/115 [00:46<00:00,  2.46it/s]\n"
          ]
        },
        {
          "name": "stdout",
          "output_type": "stream",
          "text": [
            "[MoviePy] Done.\n",
            "[MoviePy] >>>> Video ready: /content/gdrive/MyDrive/Data_testing/Data_augmented_13_resolution/Anniversaire/Anniversaire_azurecloth_creamback_lefthand_noinit_augmented_9.mp4 \n",
            "\n",
            "\n",
            "1/1 videos successfuly rotated!\n"
          ]
        }
      ],
      "source": [
        "# Path:   El directorio de nuestra carpeta por corregir\n",
        "# List:   Lista de todos los videos que hay que rotar en nuestra carpeta\n",
        "# Degree: Grados que los videos tienen que ser rotados\n",
        "\n",
        "Path    = '/content/gdrive/MyDrive/Data_testing/Data_augmented_13_resolution/Anniversaire'\n",
        "# List    = ['Sick_original_3_a_augmented_1.mp4', 'Sick_original_3_a_augmented_2.mp4', 'Sick_original_3_a_augmented_3.mp4',\n",
        "#            'Sick_original_3_a_augmented_4.mp4', 'Sick_original_3_a_augmented_5.mp4', 'Sick_original_3_a_augmented_6.mp4',\n",
        "#            'Sick_original_3_a_augmented_7.mp4', 'Sick_original_3_a_augmented_8.mp4', 'Sick_original_3_a_augmented_9.mp4']\n",
        "Degree  =  90     # -90: clockwise       -->\n",
        "                  #  90: counterclockwise <--\n",
        "\n",
        "List = ['Anniversaire_azurecloth_creamback_lefthand_noinit_augmented_9.mp4']\n",
        "\n",
        "from moviepy.editor import *\n",
        "import os\n",
        "\n",
        "print('Starting Video Correction . . .\\n')\n",
        "count = 1\n",
        "for video in List:\n",
        "  print('Rotating '+str(count)+'/'+str(len(List))+'. . .')\n",
        "  try:\n",
        "    Video_Path = Path + '/' + video\n",
        "    Save_Path = Video_Path\n",
        "    Hor_Vid = VideoFileClip(Video_Path)\n",
        "    os.remove(Video_Path)\n",
        "    Ver_Vid = Hor_Vid.rotate(Degree)\n",
        "    Ver_Vid.write_videofile(Save_Path)\n",
        "    count += 1\n",
        "  except:\n",
        "    print('Revisar que el siguiente nombre sea el correcto ==> '+video)\n",
        "print('\\n'+str(count-1)+'/'+str(len(List))+' videos successfuly rotated!')"
      ]
    },
    {
      "cell_type": "markdown",
      "metadata": {
        "id": "5gpVHzablirF"
      },
      "source": [
        "# Celda 2\n",
        "* Con este codigo se rotan TODOS los videos AUMENTADOS dentro de la carpeta (no rota los videos originales)\n",
        "* Usar esta celda en caso de que todos los videos aumentados hayan salido horizontales. \n",
        "\n",
        "OJO: Si tu conexion de internet es lenta y se demora un minuto en rotar cada video, es posible que la ejecucion se demore mas de 8 horas (mira cuanto se demora para aumentar un video y multiplicalo por la cantidad de videos aumentados que tienes en tu carpeta para sacar una estimacion), por lo cual es posible que se corte la ejecucion antes de que todos los videos hayan sido rotados y en ese caso tendras que tomar un paso extra para terminar de rotar todos los videos correctamente.\n",
        "\n",
        "Pero si vez que para rotar un video solo se demora un par de segundos, no te preocupes que si haces los calculos la ejecucion de toda la carpeta no se debe demorar mucho."
      ]
    },
    {
      "cell_type": "code",
      "execution_count": null,
      "metadata": {
        "id": "o-rHMOTUlkJF"
      },
      "outputs": [],
      "source": [
        "# Path:   El directorio de nuestra carpeta por corregir\n",
        "# Degree: Grados que los videos tienen que ser rotados\n",
        "\n",
        "Path    = '/content/gdrive/MyDrive/Data_testing/Data_augmented_11_test_horizontal_bug/Sick'\n",
        "Degree  =  90     # -90: clockwise\n",
        "                  #  90: counterclockwise\n",
        "\n",
        "from moviepy.editor import *\n",
        "import os\n",
        "from glob import glob\n",
        "\n",
        "print('Starting Video Correction . . .\\n')\n",
        "video_paths = glob(Path + \"/*_augmented_*\")\n",
        "count = 1\n",
        "\n",
        "for video in video_paths:\n",
        "  print('Rotating '+str(count)+'/'+str(len(video_paths))+'. . .')\n",
        "  try:\n",
        "    Save_Path = video\n",
        "    Hor_Vid = VideoFileClip(video)\n",
        "    os.remove(video)\n",
        "    Ver_Vid = Hor_Vid.rotate(Degree)\n",
        "    Ver_Vid.write_videofile(Save_Path)\n",
        "    count += 1\n",
        "  except:\n",
        "    print('Revisar que el siguiente nombre sea el correcto ==> '+video)\n",
        "print('\\n'+str(count-1)+'/'+str(len(video_paths))+' videos successfuly rotated!')"
      ]
    },
    {
      "cell_type": "markdown",
      "metadata": {
        "id": "iu7HenTkkWCr"
      },
      "source": [
        "# Celda 3\n",
        "* Esta celda recorrara todos los videos aumentados dentro de una carpeta, buscando todos los que estan con dimensiones horizontales y procedera a voltear esas.\n",
        "* Solo hay que especificar los variables \"Path\" y \"Degree\"\n",
        "\n",
        "Solo usar esta celda en casos extremos en donde mas o menos la mitad de los 600 videos aumentados salgan horizontales. Caso contrario es preferible recurrir a las anteriores celdas para corregir el problem de videos horizontales. La razon es que las dimensiones extraidas de los videos no siempre son las correctas, lo cual puede llevar a que no todos los videos horizontales sean rotados o a que videos que esten bien sean rotados erroneamente. Es posible que con esta celda se corrigan correctamente o no los videos de una carpeta, por su grado de impredecibilidad es preferible usar las demas celdas antes de recurrir a esta."
      ]
    },
    {
      "cell_type": "code",
      "execution_count": null,
      "metadata": {
        "id": "l97KYrQPkX8o"
      },
      "outputs": [],
      "source": [
        "# Path:   El directorio de nuestra carpeta por corregir\n",
        "# Degree: Grados que los videos tienen que ser rotados\n",
        "\n",
        "Path    = '/content/gdrive/MyDrive/Data_testing/Data_augmented_11_test_horizontal_bug/Sick'\n",
        "Degree  =  -90     # -90: clockwise\n",
        "                  #  90: counterclockwise\n",
        "\n",
        "from moviepy.editor import *\n",
        "from google.colab.patches import cv2_imshow\n",
        "from glob import glob\n",
        "import os\n",
        "import cv2\n",
        "\n",
        "def resizeImg(img_org, scale):\n",
        "  width = int(img_org.shape[1] * scale)\n",
        "  height = int(img_org.shape[0] * scale)\n",
        "  dsize = (width, height)\n",
        "  img_org = cv2.resize(img_org, dsize)\n",
        "  return img_org\n",
        "\n",
        "def checkDim(video_dir):\n",
        "  video = cv2.VideoCapture(video_dir)\n",
        "  height = video.get(4)\n",
        "  width = video.get(3)\n",
        "  # ret, frame = video.read()\n",
        "  # frame = resizeImg(frame, 0.1)\n",
        "  # print(\"--Video Dimensions (H,W):  \", height, width)\n",
        "  # print(frame.shape)\n",
        "  # cv2_imshow(frame)\n",
        "  video.release()\n",
        "  if width > height:\n",
        "    return True\n",
        "  else:\n",
        "    return False\n",
        "\n",
        "def searchHorizontalVideos(video_paths):\n",
        "  H_list = []\n",
        "  count = 0\n",
        "  for video in video_paths:\n",
        "    H_flag = checkDim(video)\n",
        "    if H_flag == True:\n",
        "      H_list.append(video)\n",
        "      count += 1\n",
        "  return H_list, count\n",
        "\n",
        "def rotateVideos(video_paths, length):\n",
        "  count = 1\n",
        "  for video in video_paths:\n",
        "    print('Rotating '+str(count)+'/'+str(length)+'. . .')\n",
        "    try:\n",
        "      Save_Path = video\n",
        "      Hor_Vid = VideoFileClip(video)\n",
        "      os.remove(video)\n",
        "      Ver_Vid = Hor_Vid.rotate(Degree)\n",
        "      Ver_Vid.write_videofile(Save_Path)\n",
        "      count += 1\n",
        "    except:\n",
        "      print('Revisar que el siguiente nombre sea el correcto ==> '+video)\n",
        "  \n",
        "  print('\\n'+str(count-1)+'/'+str(length)+' videos successfuly rotated!')\n",
        "\n",
        "def main():\n",
        "  print('Searching for horizontal videos in folder . . .\\n')\n",
        "  video_paths = glob(Path + \"/*_augmented_*\")\n",
        "  H_list, length = searchHorizontalVideos(video_paths)\n",
        "\n",
        "  if length == 0:\n",
        "    print('\\nNo horizontal videos were detected.\\n')\n",
        "    print('Check manually to make sure all videos are rotated properly.')\n",
        "    print('If videos are still horizontal, you can use \"Celda 2\" to make a list of names and only rotate the videos on that list.\\n')\n",
        "  else:\n",
        "    print('\\n'+str(length)+' horizontal videos were detected.\\n')\n",
        "    print('Starting Video Correction . . .\\n')\n",
        "    rotateVideos(H_list, length)\n",
        "  \n",
        "main()"
      ]
    }
  ],
  "metadata": {
    "colab": {
      "name": "Video_Aug_Correction_FINAL.ipynb",
      "provenance": []
    },
    "kernelspec": {
      "display_name": "Python 3",
      "name": "python3"
    },
    "language_info": {
      "name": "python"
    }
  },
  "nbformat": 4,
  "nbformat_minor": 0
}
